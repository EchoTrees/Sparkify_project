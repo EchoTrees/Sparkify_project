{
 "cells": [
  {
   "cell_type": "markdown",
   "metadata": {},
   "source": [
    "# Sparkify 项目 \n",
    "**项目目标**：建立一个模型来预测客户的流失情况\n",
    "\n",
    "**项目流程**：\n",
    "* 加载清洗数据\n",
    "* 探索性数据分析\n",
    "* 特征工程\n",
    "* 建模\n",
    "* 模型选择并预测"
   ]
  },
  {
   "cell_type": "markdown",
   "metadata": {},
   "source": [
    "## 1 导入库"
   ]
  },
  {
   "cell_type": "code",
   "execution_count": 2,
   "metadata": {},
   "outputs": [],
   "source": [
    "# 导入所需要的库\n",
    "from pyspark.sql import SparkSession\n",
    "from pyspark.sql.functions import udf\n",
    "from pyspark.sql.types import StringType\n",
    "from pyspark.sql.types import IntegerType\n",
    "from pyspark.sql.functions import avg, col, concat, asc,desc, explode, lit , min , max ,split\n",
    "from pyspark.sql.functions import sum as Fsum\n",
    "from pyspark.sql import Window\n",
    "\n",
    "from pyspark.ml.classification import LogisticRegression, RandomForestClassifier, LinearSVC,GBTClassifier\n",
    "from pyspark.ml.evaluation import MulticlassClassificationEvaluator\n",
    "from pyspark.ml.feature import Normalizer, StringIndexer, VectorAssembler\n",
    "from pyspark.ml.tuning import CrossValidator, ParamGridBuilder\n",
    "\n",
    "import datetime\n",
    "\n",
    "import numpy as np\n",
    "import pandas as pd\n",
    "\n",
    "import seaborn as sns\n",
    "import matplotlib.pyplot as plt\n",
    "\n",
    "%matplotlib inline"
   ]
  },
  {
   "cell_type": "markdown",
   "metadata": {},
   "source": [
    "## 2 加载和清洗数据 "
   ]
  },
  {
   "cell_type": "code",
   "execution_count": 3,
   "metadata": {},
   "outputs": [
    {
     "data": {
      "text/plain": [
       "Row(artist='Martha Tilston', auth='Logged In', firstName='Colin', gender='M', itemInSession=50, lastName='Freeman', length=277.89016, level='paid', location='Bakersfield, CA', method='PUT', page='NextSong', registration=1538173362000, sessionId=29, song='Rockpools', status=200, ts=1538352117000, userAgent='Mozilla/5.0 (Windows NT 6.1; WOW64; rv:31.0) Gecko/20100101 Firefox/31.0', userId='30')"
      ]
     },
     "execution_count": 3,
     "metadata": {},
     "output_type": "execute_result"
    }
   ],
   "source": [
    "# 创建一个SpakSession，默认为local（.master没有设定）\n",
    "spark = SparkSession.builder.getOrCreate()\n",
    "# 我提前将原文件在系统中压缩成了bz2格式，再读取\n",
    "df = spark.read.json('mini_sparkify_event_data.json.bz2')\n",
    "df.head()"
   ]
  },
  {
   "cell_type": "code",
   "execution_count": 4,
   "metadata": {},
   "outputs": [
    {
     "name": "stdout",
     "output_type": "stream",
     "text": [
      "root\n",
      " |-- artist: string (nullable = true)\n",
      " |-- auth: string (nullable = true)\n",
      " |-- firstName: string (nullable = true)\n",
      " |-- gender: string (nullable = true)\n",
      " |-- itemInSession: long (nullable = true)\n",
      " |-- lastName: string (nullable = true)\n",
      " |-- length: double (nullable = true)\n",
      " |-- level: string (nullable = true)\n",
      " |-- location: string (nullable = true)\n",
      " |-- method: string (nullable = true)\n",
      " |-- page: string (nullable = true)\n",
      " |-- registration: long (nullable = true)\n",
      " |-- sessionId: long (nullable = true)\n",
      " |-- song: string (nullable = true)\n",
      " |-- status: long (nullable = true)\n",
      " |-- ts: long (nullable = true)\n",
      " |-- userAgent: string (nullable = true)\n",
      " |-- userId: string (nullable = true)\n",
      "\n"
     ]
    }
   ],
   "source": [
    "# 查看数据的类型情况\n",
    "df.printSchema()"
   ]
  },
  {
   "cell_type": "code",
   "execution_count": 5,
   "metadata": {},
   "outputs": [
    {
     "name": "stdout",
     "output_type": "stream",
     "text": [
      "+------+---------+\n",
      "|userId|sessionId|\n",
      "+------+---------+\n",
      "|      |     1359|\n",
      "|      |      565|\n",
      "|      |      814|\n",
      "|      |     1053|\n",
      "|      |      268|\n",
      "|      |     1305|\n",
      "|      |     1446|\n",
      "|      |     1592|\n",
      "|      |      164|\n",
      "|      |     1183|\n",
      "+------+---------+\n",
      "only showing top 10 rows\n",
      "\n"
     ]
    }
   ],
   "source": [
    "# 去除可能存在空值的列的空值\n",
    "df_1 = df.dropna(how = 'any',subset = ['userId','sessionId'])\n",
    "# 查看重要的字段‘userId’，去除重复值\n",
    "df_1.select(['userId','sessionId']).dropDuplicates().sort('userId').show(10)"
   ]
  },
  {
   "cell_type": "markdown",
   "metadata": {},
   "source": [
    "* 查看'userId'发现存在空字符串的用户，需要去除"
   ]
  },
  {
   "cell_type": "code",
   "execution_count": 6,
   "metadata": {},
   "outputs": [
    {
     "name": "stdout",
     "output_type": "stream",
     "text": [
      "去除空字符用户前数据集的数量： 286500\n",
      "去除空字符串用户后数据集的数量： 278154\n"
     ]
    }
   ],
   "source": [
    "# 去除空字符串用户\n",
    "df_2 = df_1.where(df.userId !='')\n",
    "# 查看数据集前后数量变化\n",
    "print('去除空字符用户前数据集的数量：', df_1.count())\n",
    "print('去除空字符串用户后数据集的数量：', df_2.count())"
   ]
  },
  {
   "cell_type": "markdown",
   "metadata": {},
   "source": [
    "## 3 探索性数据分析\n",
    "当你使用完整数据集时，通过加载小数据集，在 Spark 中完成基础操作来实现探索性数据分析。在这个 Workspace 中，我们已经提供给你一个你可以探索的小数据集。\n"
   ]
  },
  {
   "cell_type": "markdown",
   "metadata": {},
   "source": [
    "### 3.1 创建新列"
   ]
  },
  {
   "cell_type": "code",
   "execution_count": 7,
   "metadata": {},
   "outputs": [
    {
     "name": "stdout",
     "output_type": "stream",
     "text": [
      "+-------------------------+\n",
      "|                     page|\n",
      "+-------------------------+\n",
      "|                   Cancel|\n",
      "|         Submit Downgrade|\n",
      "|              Thumbs Down|\n",
      "|                     Home|\n",
      "|                Downgrade|\n",
      "|              Roll Advert|\n",
      "|                   Logout|\n",
      "|            Save Settings|\n",
      "|Cancellation Confirmation|\n",
      "|                    About|\n",
      "|                 Settings|\n",
      "|          Add to Playlist|\n",
      "|               Add Friend|\n",
      "|                 NextSong|\n",
      "|                Thumbs Up|\n",
      "|                     Help|\n",
      "|                  Upgrade|\n",
      "|                    Error|\n",
      "|           Submit Upgrade|\n",
      "+-------------------------+\n",
      "\n"
     ]
    }
   ],
   "source": [
    "# 首先查看数据‘page’列,需要设置show()方法的truncate参数以显示完整\n",
    "df_2.select('page').dropDuplicates().show(truncate=30)"
   ]
  },
  {
   "cell_type": "markdown",
   "metadata": {},
   "source": [
    "* 观察page列表可以看到一些有意思的行为，比如Downgrade，Thumbs Up点赞行为等，我们这里将Cancellation Confirmation来定定义客户流失event_churn"
   ]
  },
  {
   "cell_type": "markdown",
   "metadata": {},
   "source": [
    "#### 3.1.1 创建用户流失列"
   ]
  },
  {
   "cell_type": "code",
   "execution_count": 8,
   "metadata": {},
   "outputs": [],
   "source": [
    "# 创建新的一列event_churn\n",
    "create_event_churn = udf(lambda x: 1 if x == 'Cancellation Confirmation' else 0, IntegerType())\n",
    "df_3 = df_2.withColumn('event_churn', create_event_churn('page'))\n",
    "\n",
    "# 使用窗口函数按userId分组，对数据进行去重,只要有过Cancellation Confirmation行为的用户就标记为1\n",
    "window_df_3 = Window.partitionBy('userId')\n",
    "df_clean = df_3.withColumn('churn', max('event_churn').over(window_df_3))"
   ]
  },
  {
   "cell_type": "code",
   "execution_count": 9,
   "metadata": {},
   "outputs": [
    {
     "name": "stdout",
     "output_type": "stream",
     "text": [
      "+------+-----+\n",
      "|userId|churn|\n",
      "+------+-----+\n",
      "|100010|    0|\n",
      "|200002|    0|\n",
      "|   125|    1|\n",
      "|   124|    0|\n",
      "|    51|    1|\n",
      "|     7|    0|\n",
      "|    15|    0|\n",
      "|    54|    1|\n",
      "|   155|    0|\n",
      "|100014|    1|\n",
      "+------+-----+\n",
      "only showing top 10 rows\n",
      "\n"
     ]
    }
   ],
   "source": [
    "# 查看用户标记情况\n",
    "df_clean.select(['userId','churn']).dropDuplicates().show(10)"
   ]
  },
  {
   "cell_type": "markdown",
   "metadata": {},
   "source": [
    "#### 3.1.2 转换时间"
   ]
  },
  {
   "cell_type": "code",
   "execution_count": 10,
   "metadata": {},
   "outputs": [
    {
     "data": {
      "text/plain": [
       "Row(artist='Sleeping With Sirens', auth='Logged In', firstName='Darianna', gender='F', itemInSession=0, lastName='Carpenter', length=202.97098, level='free', location='Bridgeport-Stamford-Norwalk, CT', method='PUT', page='NextSong', registration=1538016340000, sessionId=31, song='Captain Tyin Knots VS Mr Walkway (No Way)', status=200, ts=1539003534000, userAgent='\"Mozilla/5.0 (iPhone; CPU iPhone OS 7_1_2 like Mac OS X) AppleWebKit/537.51.2 (KHTML, like Gecko) Version/7.0 Mobile/11D257 Safari/9537.53\"', userId='100010', event_churn=0, churn=0)"
      ]
     },
     "execution_count": 10,
     "metadata": {},
     "output_type": "execute_result"
    }
   ],
   "source": [
    "df_clean.head()"
   ]
  },
  {
   "cell_type": "markdown",
   "metadata": {},
   "source": [
    "* 从数据中我们可以看出属性‘ts’以及‘registration’为时间属性，我们需要将他们转换成timestamp的形式"
   ]
  },
  {
   "cell_type": "code",
   "execution_count": 11,
   "metadata": {},
   "outputs": [],
   "source": [
    "# 使用datetime.datetime.fromtimestamp().strftime(\"%Y-%m-%d %H:%M:%s\")，因为数据时间戳为13位,最后三位为0,要转换成10位\n",
    "\n",
    "ts_transform = udf(lambda x:datetime.datetime.fromtimestamp(x/1000).strftime(\"%Y-%m-%d %H:%M:%s\"))\n",
    "df_clean = df_clean.withColumn('time',ts_transform('ts'))\n",
    "df_clean = df_clean.withColumn('registration_time',ts_transform('registration'))\n"
   ]
  },
  {
   "cell_type": "code",
   "execution_count": 12,
   "metadata": {},
   "outputs": [
    {
     "data": {
      "text/plain": [
       "Row(artist='Sleeping With Sirens', auth='Logged In', firstName='Darianna', gender='F', itemInSession=0, lastName='Carpenter', length=202.97098, level='free', location='Bridgeport-Stamford-Norwalk, CT', method='PUT', page='NextSong', registration=1538016340000, sessionId=31, song='Captain Tyin Knots VS Mr Walkway (No Way)', status=200, ts=1539003534000, userAgent='\"Mozilla/5.0 (iPhone; CPU iPhone OS 7_1_2 like Mac OS X) AppleWebKit/537.51.2 (KHTML, like Gecko) Version/7.0 Mobile/11D257 Safari/9537.53\"', userId='100010', event_churn=0, churn=0, time='2018-10-08 12:58:1539003534', registration_time='2018-09-27 02:45:1538016340')"
      ]
     },
     "execution_count": 12,
     "metadata": {},
     "output_type": "execute_result"
    }
   ],
   "source": [
    "# 查看时间相关列修改情况\n",
    "df_clean.head()"
   ]
  },
  {
   "cell_type": "markdown",
   "metadata": {},
   "source": [
    "* 可以看到数据中有修改好形式的时间相关属性了\n",
    "* 我们可以把数据转为pandas dataframe 形式查看一下"
   ]
  },
  {
   "cell_type": "code",
   "execution_count": 13,
   "metadata": {},
   "outputs": [
    {
     "data": {
      "text/html": [
       "<div>\n",
       "<style scoped>\n",
       "    .dataframe tbody tr th:only-of-type {\n",
       "        vertical-align: middle;\n",
       "    }\n",
       "\n",
       "    .dataframe tbody tr th {\n",
       "        vertical-align: top;\n",
       "    }\n",
       "\n",
       "    .dataframe thead th {\n",
       "        text-align: right;\n",
       "    }\n",
       "</style>\n",
       "<table border=\"1\" class=\"dataframe\">\n",
       "  <thead>\n",
       "    <tr style=\"text-align: right;\">\n",
       "      <th></th>\n",
       "      <th>artist</th>\n",
       "      <th>auth</th>\n",
       "      <th>firstName</th>\n",
       "      <th>gender</th>\n",
       "      <th>itemInSession</th>\n",
       "      <th>lastName</th>\n",
       "      <th>length</th>\n",
       "      <th>level</th>\n",
       "      <th>location</th>\n",
       "      <th>method</th>\n",
       "      <th>...</th>\n",
       "      <th>sessionId</th>\n",
       "      <th>song</th>\n",
       "      <th>status</th>\n",
       "      <th>ts</th>\n",
       "      <th>userAgent</th>\n",
       "      <th>userId</th>\n",
       "      <th>event_churn</th>\n",
       "      <th>churn</th>\n",
       "      <th>time</th>\n",
       "      <th>registration_time</th>\n",
       "    </tr>\n",
       "  </thead>\n",
       "  <tbody>\n",
       "    <tr>\n",
       "      <th>0</th>\n",
       "      <td>Sleeping With Sirens</td>\n",
       "      <td>Logged In</td>\n",
       "      <td>Darianna</td>\n",
       "      <td>F</td>\n",
       "      <td>0</td>\n",
       "      <td>Carpenter</td>\n",
       "      <td>202.97098</td>\n",
       "      <td>free</td>\n",
       "      <td>Bridgeport-Stamford-Norwalk, CT</td>\n",
       "      <td>PUT</td>\n",
       "      <td>...</td>\n",
       "      <td>31</td>\n",
       "      <td>Captain Tyin Knots VS Mr Walkway (No Way)</td>\n",
       "      <td>200</td>\n",
       "      <td>1539003534000</td>\n",
       "      <td>\"Mozilla/5.0 (iPhone; CPU iPhone OS 7_1_2 like...</td>\n",
       "      <td>100010</td>\n",
       "      <td>0</td>\n",
       "      <td>0</td>\n",
       "      <td>2018-10-08 12:58:1539003534</td>\n",
       "      <td>2018-09-27 02:45:1538016340</td>\n",
       "    </tr>\n",
       "    <tr>\n",
       "      <th>1</th>\n",
       "      <td>Francesca Battistelli</td>\n",
       "      <td>Logged In</td>\n",
       "      <td>Darianna</td>\n",
       "      <td>F</td>\n",
       "      <td>1</td>\n",
       "      <td>Carpenter</td>\n",
       "      <td>196.54485</td>\n",
       "      <td>free</td>\n",
       "      <td>Bridgeport-Stamford-Norwalk, CT</td>\n",
       "      <td>PUT</td>\n",
       "      <td>...</td>\n",
       "      <td>31</td>\n",
       "      <td>Beautiful_ Beautiful (Album)</td>\n",
       "      <td>200</td>\n",
       "      <td>1539003736000</td>\n",
       "      <td>\"Mozilla/5.0 (iPhone; CPU iPhone OS 7_1_2 like...</td>\n",
       "      <td>100010</td>\n",
       "      <td>0</td>\n",
       "      <td>0</td>\n",
       "      <td>2018-10-08 13:02:1539003736</td>\n",
       "      <td>2018-09-27 02:45:1538016340</td>\n",
       "    </tr>\n",
       "    <tr>\n",
       "      <th>2</th>\n",
       "      <td>Brutha</td>\n",
       "      <td>Logged In</td>\n",
       "      <td>Darianna</td>\n",
       "      <td>F</td>\n",
       "      <td>2</td>\n",
       "      <td>Carpenter</td>\n",
       "      <td>263.13098</td>\n",
       "      <td>free</td>\n",
       "      <td>Bridgeport-Stamford-Norwalk, CT</td>\n",
       "      <td>PUT</td>\n",
       "      <td>...</td>\n",
       "      <td>31</td>\n",
       "      <td>She's Gone</td>\n",
       "      <td>200</td>\n",
       "      <td>1539003932000</td>\n",
       "      <td>\"Mozilla/5.0 (iPhone; CPU iPhone OS 7_1_2 like...</td>\n",
       "      <td>100010</td>\n",
       "      <td>0</td>\n",
       "      <td>0</td>\n",
       "      <td>2018-10-08 13:05:1539003932</td>\n",
       "      <td>2018-09-27 02:45:1538016340</td>\n",
       "    </tr>\n",
       "    <tr>\n",
       "      <th>3</th>\n",
       "      <td>None</td>\n",
       "      <td>Logged In</td>\n",
       "      <td>Darianna</td>\n",
       "      <td>F</td>\n",
       "      <td>3</td>\n",
       "      <td>Carpenter</td>\n",
       "      <td>NaN</td>\n",
       "      <td>free</td>\n",
       "      <td>Bridgeport-Stamford-Norwalk, CT</td>\n",
       "      <td>PUT</td>\n",
       "      <td>...</td>\n",
       "      <td>31</td>\n",
       "      <td>None</td>\n",
       "      <td>307</td>\n",
       "      <td>1539003933000</td>\n",
       "      <td>\"Mozilla/5.0 (iPhone; CPU iPhone OS 7_1_2 like...</td>\n",
       "      <td>100010</td>\n",
       "      <td>0</td>\n",
       "      <td>0</td>\n",
       "      <td>2018-10-08 13:05:1539003933</td>\n",
       "      <td>2018-09-27 02:45:1538016340</td>\n",
       "    </tr>\n",
       "    <tr>\n",
       "      <th>4</th>\n",
       "      <td>Josh Ritter</td>\n",
       "      <td>Logged In</td>\n",
       "      <td>Darianna</td>\n",
       "      <td>F</td>\n",
       "      <td>4</td>\n",
       "      <td>Carpenter</td>\n",
       "      <td>316.23791</td>\n",
       "      <td>free</td>\n",
       "      <td>Bridgeport-Stamford-Norwalk, CT</td>\n",
       "      <td>PUT</td>\n",
       "      <td>...</td>\n",
       "      <td>31</td>\n",
       "      <td>Folk Bloodbath</td>\n",
       "      <td>200</td>\n",
       "      <td>1539004195000</td>\n",
       "      <td>\"Mozilla/5.0 (iPhone; CPU iPhone OS 7_1_2 like...</td>\n",
       "      <td>100010</td>\n",
       "      <td>0</td>\n",
       "      <td>0</td>\n",
       "      <td>2018-10-08 13:09:1539004195</td>\n",
       "      <td>2018-09-27 02:45:1538016340</td>\n",
       "    </tr>\n",
       "  </tbody>\n",
       "</table>\n",
       "<p>5 rows × 22 columns</p>\n",
       "</div>"
      ],
      "text/plain": [
       "                  artist       auth firstName gender  itemInSession  \\\n",
       "0   Sleeping With Sirens  Logged In  Darianna      F              0   \n",
       "1  Francesca Battistelli  Logged In  Darianna      F              1   \n",
       "2                 Brutha  Logged In  Darianna      F              2   \n",
       "3                   None  Logged In  Darianna      F              3   \n",
       "4            Josh Ritter  Logged In  Darianna      F              4   \n",
       "\n",
       "    lastName     length level                         location method  \\\n",
       "0  Carpenter  202.97098  free  Bridgeport-Stamford-Norwalk, CT    PUT   \n",
       "1  Carpenter  196.54485  free  Bridgeport-Stamford-Norwalk, CT    PUT   \n",
       "2  Carpenter  263.13098  free  Bridgeport-Stamford-Norwalk, CT    PUT   \n",
       "3  Carpenter        NaN  free  Bridgeport-Stamford-Norwalk, CT    PUT   \n",
       "4  Carpenter  316.23791  free  Bridgeport-Stamford-Norwalk, CT    PUT   \n",
       "\n",
       "              ...              sessionId  \\\n",
       "0             ...                     31   \n",
       "1             ...                     31   \n",
       "2             ...                     31   \n",
       "3             ...                     31   \n",
       "4             ...                     31   \n",
       "\n",
       "                                        song  status             ts  \\\n",
       "0  Captain Tyin Knots VS Mr Walkway (No Way)     200  1539003534000   \n",
       "1               Beautiful_ Beautiful (Album)     200  1539003736000   \n",
       "2                                 She's Gone     200  1539003932000   \n",
       "3                                       None     307  1539003933000   \n",
       "4                             Folk Bloodbath     200  1539004195000   \n",
       "\n",
       "                                           userAgent  userId event_churn  \\\n",
       "0  \"Mozilla/5.0 (iPhone; CPU iPhone OS 7_1_2 like...  100010           0   \n",
       "1  \"Mozilla/5.0 (iPhone; CPU iPhone OS 7_1_2 like...  100010           0   \n",
       "2  \"Mozilla/5.0 (iPhone; CPU iPhone OS 7_1_2 like...  100010           0   \n",
       "3  \"Mozilla/5.0 (iPhone; CPU iPhone OS 7_1_2 like...  100010           0   \n",
       "4  \"Mozilla/5.0 (iPhone; CPU iPhone OS 7_1_2 like...  100010           0   \n",
       "\n",
       "  churn                         time            registration_time  \n",
       "0     0  2018-10-08 12:58:1539003534  2018-09-27 02:45:1538016340  \n",
       "1     0  2018-10-08 13:02:1539003736  2018-09-27 02:45:1538016340  \n",
       "2     0  2018-10-08 13:05:1539003932  2018-09-27 02:45:1538016340  \n",
       "3     0  2018-10-08 13:05:1539003933  2018-09-27 02:45:1538016340  \n",
       "4     0  2018-10-08 13:09:1539004195  2018-09-27 02:45:1538016340  \n",
       "\n",
       "[5 rows x 22 columns]"
      ]
     },
     "execution_count": 13,
     "metadata": {},
     "output_type": "execute_result"
    }
   ],
   "source": [
    "pd = df_clean.toPandas()\n",
    "pd.head()"
   ]
  },
  {
   "cell_type": "code",
   "execution_count": 14,
   "metadata": {},
   "outputs": [
    {
     "data": {
      "text/html": [
       "<div>\n",
       "<style scoped>\n",
       "    .dataframe tbody tr th:only-of-type {\n",
       "        vertical-align: middle;\n",
       "    }\n",
       "\n",
       "    .dataframe tbody tr th {\n",
       "        vertical-align: top;\n",
       "    }\n",
       "\n",
       "    .dataframe thead th {\n",
       "        text-align: right;\n",
       "    }\n",
       "</style>\n",
       "<table border=\"1\" class=\"dataframe\">\n",
       "  <thead>\n",
       "    <tr style=\"text-align: right;\">\n",
       "      <th></th>\n",
       "      <th>itemInSession</th>\n",
       "      <th>length</th>\n",
       "      <th>registration</th>\n",
       "      <th>sessionId</th>\n",
       "      <th>status</th>\n",
       "      <th>ts</th>\n",
       "      <th>event_churn</th>\n",
       "      <th>churn</th>\n",
       "    </tr>\n",
       "  </thead>\n",
       "  <tbody>\n",
       "    <tr>\n",
       "      <th>count</th>\n",
       "      <td>278154.000000</td>\n",
       "      <td>228108.000000</td>\n",
       "      <td>2.781540e+05</td>\n",
       "      <td>278154.000000</td>\n",
       "      <td>278154.000000</td>\n",
       "      <td>2.781540e+05</td>\n",
       "      <td>278154.000000</td>\n",
       "      <td>278154.000000</td>\n",
       "    </tr>\n",
       "    <tr>\n",
       "      <th>mean</th>\n",
       "      <td>114.899182</td>\n",
       "      <td>249.117182</td>\n",
       "      <td>1.535359e+12</td>\n",
       "      <td>1042.561624</td>\n",
       "      <td>209.103216</td>\n",
       "      <td>1.540959e+12</td>\n",
       "      <td>0.000187</td>\n",
       "      <td>0.161292</td>\n",
       "    </tr>\n",
       "    <tr>\n",
       "      <th>std</th>\n",
       "      <td>129.851729</td>\n",
       "      <td>99.235179</td>\n",
       "      <td>3.291322e+09</td>\n",
       "      <td>726.501036</td>\n",
       "      <td>30.151389</td>\n",
       "      <td>1.506829e+09</td>\n",
       "      <td>0.013672</td>\n",
       "      <td>0.367801</td>\n",
       "    </tr>\n",
       "    <tr>\n",
       "      <th>min</th>\n",
       "      <td>0.000000</td>\n",
       "      <td>0.783220</td>\n",
       "      <td>1.521381e+12</td>\n",
       "      <td>1.000000</td>\n",
       "      <td>200.000000</td>\n",
       "      <td>1.538352e+12</td>\n",
       "      <td>0.000000</td>\n",
       "      <td>0.000000</td>\n",
       "    </tr>\n",
       "    <tr>\n",
       "      <th>25%</th>\n",
       "      <td>27.000000</td>\n",
       "      <td>199.888530</td>\n",
       "      <td>1.533522e+12</td>\n",
       "      <td>338.000000</td>\n",
       "      <td>200.000000</td>\n",
       "      <td>1.539699e+12</td>\n",
       "      <td>0.000000</td>\n",
       "      <td>0.000000</td>\n",
       "    </tr>\n",
       "    <tr>\n",
       "      <th>50%</th>\n",
       "      <td>70.000000</td>\n",
       "      <td>234.500770</td>\n",
       "      <td>1.536664e+12</td>\n",
       "      <td>1017.000000</td>\n",
       "      <td>200.000000</td>\n",
       "      <td>1.540934e+12</td>\n",
       "      <td>0.000000</td>\n",
       "      <td>0.000000</td>\n",
       "    </tr>\n",
       "    <tr>\n",
       "      <th>75%</th>\n",
       "      <td>157.000000</td>\n",
       "      <td>277.158730</td>\n",
       "      <td>1.537672e+12</td>\n",
       "      <td>1675.000000</td>\n",
       "      <td>200.000000</td>\n",
       "      <td>1.542268e+12</td>\n",
       "      <td>0.000000</td>\n",
       "      <td>0.000000</td>\n",
       "    </tr>\n",
       "    <tr>\n",
       "      <th>max</th>\n",
       "      <td>1321.000000</td>\n",
       "      <td>3024.665670</td>\n",
       "      <td>1.543247e+12</td>\n",
       "      <td>2474.000000</td>\n",
       "      <td>404.000000</td>\n",
       "      <td>1.543799e+12</td>\n",
       "      <td>1.000000</td>\n",
       "      <td>1.000000</td>\n",
       "    </tr>\n",
       "  </tbody>\n",
       "</table>\n",
       "</div>"
      ],
      "text/plain": [
       "       itemInSession         length  registration      sessionId  \\\n",
       "count  278154.000000  228108.000000  2.781540e+05  278154.000000   \n",
       "mean      114.899182     249.117182  1.535359e+12    1042.561624   \n",
       "std       129.851729      99.235179  3.291322e+09     726.501036   \n",
       "min         0.000000       0.783220  1.521381e+12       1.000000   \n",
       "25%        27.000000     199.888530  1.533522e+12     338.000000   \n",
       "50%        70.000000     234.500770  1.536664e+12    1017.000000   \n",
       "75%       157.000000     277.158730  1.537672e+12    1675.000000   \n",
       "max      1321.000000    3024.665670  1.543247e+12    2474.000000   \n",
       "\n",
       "              status            ts    event_churn          churn  \n",
       "count  278154.000000  2.781540e+05  278154.000000  278154.000000  \n",
       "mean      209.103216  1.540959e+12       0.000187       0.161292  \n",
       "std        30.151389  1.506829e+09       0.013672       0.367801  \n",
       "min       200.000000  1.538352e+12       0.000000       0.000000  \n",
       "25%       200.000000  1.539699e+12       0.000000       0.000000  \n",
       "50%       200.000000  1.540934e+12       0.000000       0.000000  \n",
       "75%       200.000000  1.542268e+12       0.000000       0.000000  \n",
       "max       404.000000  1.543799e+12       1.000000       1.000000  "
      ]
     },
     "execution_count": 14,
     "metadata": {},
     "output_type": "execute_result"
    }
   ],
   "source": [
    "# 查看数据统计情况\n",
    "pd.describe()"
   ]
  },
  {
   "cell_type": "markdown",
   "metadata": {},
   "source": [
    "#### 3.2 可视化探索\n",
    "你定义好客户流失后，就可以执行一些探索性数据分析，观察留存用户和流失用户的行为。你可以首先把这两类用户的数据聚合到一起，观察固定时间内某个特定动作出现的次数或者播放音乐的数量。"
   ]
  },
  {
   "cell_type": "markdown",
   "metadata": {},
   "source": [
    "##### 3.2.1 Churn on Genders 可视化"
   ]
  },
  {
   "cell_type": "code",
   "execution_count": 15,
   "metadata": {},
   "outputs": [],
   "source": [
    "df_gender_churn = df_clean.dropDuplicates(['userId','gender']).groupBy(['churn','gender']).count().sort('churn').toPandas()"
   ]
  },
  {
   "cell_type": "raw",
   "metadata": {},
   "source": [
    "sns.barplot(data = df_gender_churn, x = 'churn',y = 'count', hue = 'gender')\n",
    "plt.xlabel('Event of churn')\n",
    "plt.ylabel('Count')\n",
    "plt.title('Churn of Men and Woman')\n",
    "plt.legend(loc = 'best')"
   ]
  },
  {
   "cell_type": "markdown",
   "metadata": {},
   "source": [
    "* 从图中可看出，男用户流失比女用户略多一点"
   ]
  },
  {
   "cell_type": "markdown",
   "metadata": {},
   "source": [
    "#### 3.2.2 Churn on Level 可视化"
   ]
  },
  {
   "cell_type": "code",
   "execution_count": 16,
   "metadata": {},
   "outputs": [],
   "source": [
    "#df_type_churn = df_clean.dropDuplicates(['userId','level']).where('churn==1').groupby('level').count().toPandas()\n",
    "#最初我使用churn来做的筛选，是不对的，因为churn标记的用户里，可能存在同一个用户有两个level的情况，\n",
    "#并不能反映用户在流失时当下的level情况，所以应该选择page==\"Cancellation Confirmation\"来作为筛选的条件\n",
    "df_type_churn = df_clean.where('page==\"Cancellation Confirmation\"').groupby('level').count().toPandas()"
   ]
  },
  {
   "cell_type": "code",
   "execution_count": 17,
   "metadata": {},
   "outputs": [
    {
     "data": {
      "text/plain": [
       "Text(0.5,1,'Churn happens more when users use to pay')"
      ]
     },
     "execution_count": 17,
     "metadata": {},
     "output_type": "execute_result"
    },
    {
     "data": {
      "image/png": "[encoded data removed]",
      "text/plain": [
       "<matplotlib.figure.Figure at 0x7f8300488c50>"
      ]
     },
     "metadata": {
      "needs_background": "light"
     },
     "output_type": "display_data"
    }
   ],
   "source": [
    "sns.barplot(data = df_type_churn, x = 'level', y = 'count', color = sns.color_palette()[0])\n",
    "plt.xlabel(\"User Level\")\n",
    "plt.ylabel(\"Number of Churn\")\n",
    "plt.title('Churn happens more when users use to pay')"
   ]
  },
  {
   "cell_type": "markdown",
   "metadata": {},
   "source": [
    "* 从图形中可以观察得出曾使用过付费的用户反而比免费使用的用户流失的多，说明应用所提供的服务可能很不好。"
   ]
  },
  {
   "cell_type": "markdown",
   "metadata": {},
   "source": [
    "#### 3.2.3 Churn on Ratio of Thumbs Up/Down 可视化"
   ]
  },
  {
   "cell_type": "code",
   "execution_count": 18,
   "metadata": {},
   "outputs": [],
   "source": [
    "# 筛选出好评和差评的数据\n",
    "df_thumbs = df_clean.where('page == \"Thumbs Up\" OR page ==\"Thumbs Down\"').groupby(['userId','churn','page']).count().sort('userId').toPandas()"
   ]
  },
  {
   "cell_type": "code",
   "execution_count": 19,
   "metadata": {},
   "outputs": [],
   "source": [
    "# 对数据格式进行一定的调整，并计算出点赞和差评的平均值\n",
    "df_thumbs =df_thumbs.groupby(['churn','page'])['count'].mean().reset_index()\n",
    "df_thumbs =df_thumbs.pivot_table(index = 'churn', values = 'count', columns = 'page')"
   ]
  },
  {
   "cell_type": "code",
   "execution_count": 20,
   "metadata": {},
   "outputs": [],
   "source": [
    "df_thumbs = df_thumbs.reset_index()"
   ]
  },
  {
   "cell_type": "code",
   "execution_count": 21,
   "metadata": {},
   "outputs": [
    {
     "data": {
      "text/html": [
       "<div>\n",
       "<style scoped>\n",
       "    .dataframe tbody tr th:only-of-type {\n",
       "        vertical-align: middle;\n",
       "    }\n",
       "\n",
       "    .dataframe tbody tr th {\n",
       "        vertical-align: top;\n",
       "    }\n",
       "\n",
       "    .dataframe thead th {\n",
       "        text-align: right;\n",
       "    }\n",
       "</style>\n",
       "<table border=\"1\" class=\"dataframe\">\n",
       "  <thead>\n",
       "    <tr style=\"text-align: right;\">\n",
       "      <th>page</th>\n",
       "      <th>churn</th>\n",
       "      <th>Thumbs Down</th>\n",
       "      <th>Thumbs Up</th>\n",
       "      <th>ratio_thumbs</th>\n",
       "    </tr>\n",
       "  </thead>\n",
       "  <tbody>\n",
       "    <tr>\n",
       "      <th>0</th>\n",
       "      <td>0</td>\n",
       "      <td>13.225806</td>\n",
       "      <td>62.894118</td>\n",
       "      <td>4.755409</td>\n",
       "    </tr>\n",
       "    <tr>\n",
       "      <th>1</th>\n",
       "      <td>1</td>\n",
       "      <td>10.333333</td>\n",
       "      <td>37.180000</td>\n",
       "      <td>3.598065</td>\n",
       "    </tr>\n",
       "  </tbody>\n",
       "</table>\n",
       "</div>"
      ],
      "text/plain": [
       "page  churn  Thumbs Down  Thumbs Up  ratio_thumbs\n",
       "0         0    13.225806  62.894118      4.755409\n",
       "1         1    10.333333  37.180000      3.598065"
      ]
     },
     "execution_count": 21,
     "metadata": {},
     "output_type": "execute_result"
    }
   ],
   "source": [
    "# 创建一个新列，计算点赞和差评之间的比值\n",
    "df_thumbs['ratio_thumbs'] = df_thumbs['Thumbs Up']/df_thumbs['Thumbs Down']\n",
    "df_thumbs.head()"
   ]
  },
  {
   "cell_type": "code",
   "execution_count": 22,
   "metadata": {},
   "outputs": [
    {
     "data": {
      "text/plain": [
       "Text(0.5,1,'Less churn  when Ratio of Thumbs Up/Down is high')"
      ]
     },
     "execution_count": 22,
     "metadata": {},
     "output_type": "execute_result"
    },
    {
     "data": {
      "image/png": "[encoded data removed]",
      "text/plain": [
       "<matplotlib.figure.Figure at 0x7f83288dcb38>"
      ]
     },
     "metadata": {
      "needs_background": "light"
     },
     "output_type": "display_data"
    }
   ],
   "source": [
    "sns.barplot(data = df_thumbs,x = 'churn', y = 'ratio_thumbs', color = sns.color_palette()[0] )\n",
    "plt.xlabel('Event of churn')\n",
    "plt.ylabel('Ratio of Thumbs Up/Down')\n",
    "plt.title('Less churn  when Ratio of Thumbs Up/Down is high')"
   ]
  },
  {
   "cell_type": "markdown",
   "metadata": {},
   "source": [
    "* 从图中观察发现，点赞与差评之间的比值与用户流失与否有着一定的关系，比值越高的用户相对来说不容易流失。"
   ]
  },
  {
   "cell_type": "markdown",
   "metadata": {},
   "source": [
    "#### 3.2.4 Churn on Time-interval 可视化"
   ]
  },
  {
   "cell_type": "code",
   "execution_count": 23,
   "metadata": {},
   "outputs": [],
   "source": [
    "# 添加新的一列，计算用户使用时间区间\n",
    "df_time = df_clean.select('userId','registration','ts','churn')\\\n",
    "    .withColumn('time_interval',(df_clean.ts-df_clean.registration)).toPandas()"
   ]
  },
  {
   "cell_type": "code",
   "execution_count": 24,
   "metadata": {},
   "outputs": [],
   "source": [
    "df_time = df_time.groupby(['userId','churn'])['time_interval'].max().reset_index()\n",
    "# 对时间区间一列做转换，将其换算成日为单位\n",
    "df_time.time_interval = df_time.time_interval.apply(lambda x:round(x/1000/3600/24))"
   ]
  },
  {
   "cell_type": "code",
   "execution_count": 25,
   "metadata": {},
   "outputs": [
    {
     "data": {
      "text/plain": [
       "Text(0.5,1,'Users who churned use app for a shorter time')"
      ]
     },
     "execution_count": 25,
     "metadata": {},
     "output_type": "execute_result"
    },
    {
     "data": {
      "image/png": "[encoded data removed]",
      "text/plain": [
       "<matplotlib.figure.Figure at 0x7f82fa25ab00>"
      ]
     },
     "metadata": {
      "needs_background": "light"
     },
     "output_type": "display_data"
    }
   ],
   "source": [
    "sns.violinplot(data = df_time,x = 'churn', y = 'time_interval')\n",
    "plt.xlabel('Event of churn')\n",
    "plt.ylabel('Days since registration till churn')\n",
    "plt.title('Users who churned use app for a shorter time')"
   ]
  },
  {
   "cell_type": "markdown",
   "metadata": {},
   "source": [
    "* 从图形中可以看出，流失的用户相对于没有流失的用户总体使用应用服务的时间要少一些"
   ]
  },
  {
   "cell_type": "markdown",
   "metadata": {},
   "source": [
    "## 4 特征工程\n",
    "熟悉了数据之后，就可以构建你认为会对训练模型帮助最大的特征。要处理完整数据集，你可以按照下述步骤：\n",
    "- 写一个脚本来从小数据集中提取你需要的特征\n",
    "- 确保你的脚本可以拓展到大数据集上，使用之前教过的最佳实践原则\n",
    "- 在完整数据集上运行你的脚本，按运行情况调试代码\n",
    "\n",
    "如果是在教室的 workspace，你可以直接用里面提供的小数据集来提取特征。确保当你开始使用 Spark 集群的时候，把上述的成果迁移到大数据集上。"
   ]
  },
  {
   "cell_type": "markdown",
   "metadata": {},
   "source": [
    "### 4.1 创建特征"
   ]
  },
  {
   "cell_type": "code",
   "execution_count": 26,
   "metadata": {},
   "outputs": [],
   "source": [
    "# 首先选择创建目标标签\n",
    "label = df_clean.select('userId','churn')\\\n",
    "    .withColumnRenamed('churn','label')\\\n",
    "    .dropDuplicates()"
   ]
  },
  {
   "cell_type": "code",
   "execution_count": 27,
   "metadata": {},
   "outputs": [
    {
     "name": "stdout",
     "output_type": "stream",
     "text": [
      "+------+-----+\n",
      "|userId|label|\n",
      "+------+-----+\n",
      "|100010|    0|\n",
      "|200002|    0|\n",
      "|   125|    1|\n",
      "|   124|    0|\n",
      "|    51|    1|\n",
      "|     7|    0|\n",
      "|    15|    0|\n",
      "|    54|    1|\n",
      "|   155|    0|\n",
      "|100014|    1|\n",
      "+------+-----+\n",
      "only showing top 10 rows\n",
      "\n"
     ]
    }
   ],
   "source": [
    "label.show(10)"
   ]
  },
  {
   "cell_type": "code",
   "execution_count": 28,
   "metadata": {},
   "outputs": [],
   "source": [
    "# 创建用户总共听过的歌曲数量特征\n",
    "f_1 = df_clean.select('userId','song')\\\n",
    "    .groupby('userId')\\\n",
    "    .count()\\\n",
    "    .withColumnRenamed('count','total_songs')\n"
   ]
  },
  {
   "cell_type": "code",
   "execution_count": 29,
   "metadata": {},
   "outputs": [
    {
     "name": "stdout",
     "output_type": "stream",
     "text": [
      "+-------+------------------+-----------------+\n",
      "|summary|            userId|      total_songs|\n",
      "+-------+------------------+-----------------+\n",
      "|  count|               225|              225|\n",
      "|   mean|65391.013333333336|          1236.24|\n",
      "| stddev|105396.47791907164|1329.531716432519|\n",
      "|    min|                10|                6|\n",
      "|    max|                99|             9632|\n",
      "+-------+------------------+-----------------+\n",
      "\n"
     ]
    }
   ],
   "source": [
    "f_1.describe().show()"
   ]
  },
  {
   "cell_type": "code",
   "execution_count": 30,
   "metadata": {},
   "outputs": [],
   "source": [
    "# # 创建用户性别特征，由于性别特征为字符串格式，需要做一个转换,使用方法StringIndexer\n",
    "# index_gender = StringIndexer(inputCol='gender', outputCol='gender_index')\n",
    "# df_clean = index_gender.fit(df_clean).transform(df)"
   ]
  },
  {
   "cell_type": "code",
   "execution_count": 31,
   "metadata": {},
   "outputs": [],
   "source": [
    "# 创建性别特征\n",
    "# f_2 = df_clean.select('userId','gender')\\\n",
    "#     .dropDuplicates()\\\n",
    "#     .replace(['M','F'],['0','1'],'gender')\\\n",
    "#     .select('userId',col('gender').cast('int'))"
   ]
  },
  {
   "cell_type": "code",
   "execution_count": 32,
   "metadata": {},
   "outputs": [],
   "source": [
    "#df_clean.select('userId','gender_index').dropDuplicates().show()\n",
    "#在这个操作中出现了一个问题，就是无法去重"
   ]
  },
  {
   "cell_type": "code",
   "execution_count": 33,
   "metadata": {},
   "outputs": [],
   "source": [
    "# 尝试先去重，在做转换\n",
    "df_gender = df_clean.dropDuplicates(['userId','gender'])\n",
    "index_gender = StringIndexer(inputCol='gender', outputCol='gender_index')\n",
    "df_gender = index_gender.fit(df_gender).transform(df_gender)"
   ]
  },
  {
   "cell_type": "code",
   "execution_count": 34,
   "metadata": {},
   "outputs": [
    {
     "name": "stdout",
     "output_type": "stream",
     "text": [
      "+------+------------+\n",
      "|userId|gender_index|\n",
      "+------+------------+\n",
      "|    44|           1|\n",
      "|    46|           1|\n",
      "|    41|           1|\n",
      "|    72|           1|\n",
      "|300023|           1|\n",
      "|    39|           1|\n",
      "|100010|           1|\n",
      "|    40|           1|\n",
      "|    94|           1|\n",
      "|    35|           1|\n",
      "+------+------------+\n",
      "only showing top 10 rows\n",
      "\n"
     ]
    }
   ],
   "source": [
    "f_2 = df_gender.select('userId',col('gender_index').cast('int'))\n",
    "#转换成功，发现StringIndexer方法应该是根据列表内变量顺序来进行编码的\n",
    "f_2.show(10)"
   ]
  },
  {
   "cell_type": "code",
   "execution_count": 35,
   "metadata": {},
   "outputs": [
    {
     "name": "stdout",
     "output_type": "stream",
     "text": [
      "+-------+------------------+-------------------+\n",
      "|summary|            userId|       gender_index|\n",
      "+-------+------------------+-------------------+\n",
      "|  count|               225|                225|\n",
      "|   mean|65391.013333333336| 0.4622222222222222|\n",
      "| stddev|105396.47791907165|0.49968243883744773|\n",
      "|    min|                10|                  0|\n",
      "|    max|                99|                  1|\n",
      "+-------+------------------+-------------------+\n",
      "\n"
     ]
    }
   ],
   "source": [
    "f_2.describe().show()"
   ]
  },
  {
   "cell_type": "code",
   "execution_count": 36,
   "metadata": {},
   "outputs": [],
   "source": [
    "# 时间区间特征\n",
    "time_udf = udf(lambda x:max(x))\n",
    "f_3 = df_clean.select('userId','registration','ts')\\\n",
    "    .withColumn('time_interval',(df_clean.ts-df_clean.registration))"
   ]
  },
  {
   "cell_type": "code",
   "execution_count": 37,
   "metadata": {},
   "outputs": [],
   "source": [
    "# 使用窗口函数按照userId分组取时间最大值\n",
    "window_f_3 = Window.partitionBy('userId')\n",
    "f_3 = f_3.withColumn('time_period', max('time_interval').over(window_f_3))"
   ]
  },
  {
   "cell_type": "code",
   "execution_count": 38,
   "metadata": {},
   "outputs": [
    {
     "name": "stdout",
     "output_type": "stream",
     "text": [
      "+-------+------------------+-------------------+\n",
      "|summary|            userId|        time_period|\n",
      "+-------+------------------+-------------------+\n",
      "|  count|               225|                225|\n",
      "|   mean|65391.013333333336|  79.84568348765428|\n",
      "| stddev|105396.47791907164|  37.66147001861255|\n",
      "|    min|                10|0.31372685185185184|\n",
      "|    max|                99|  256.3776736111111|\n",
      "+-------+------------------+-------------------+\n",
      "\n"
     ]
    }
   ],
   "source": [
    "# 对userId和时间进行去重\n",
    "f_3 = f_3.select('userId',(col('time_period')/1000/3600/24).alias('time_period')).dropDuplicates()\n",
    "f_3.describe().show()"
   ]
  },
  {
   "cell_type": "code",
   "execution_count": 39,
   "metadata": {},
   "outputs": [],
   "source": [
    "# 由于page记录了用户的行为，从page中选取一些行为作为特征变量"
   ]
  },
  {
   "cell_type": "code",
   "execution_count": 40,
   "metadata": {},
   "outputs": [],
   "source": [
    "# 特征创建 Thumbs Up/Down\n",
    "f_4 = df_clean.select('userId','page').where('page == \"Thumbs Up\"')\\\n",
    "    .groupby('userId')\\\n",
    "    .count()\\\n",
    "    .withColumnRenamed('count','num_thumbs_up')\n",
    "f_5 = df_clean.select('userId','page').where('page == \"Thumbs Down\"')\\\n",
    "    .groupby('userId')\\\n",
    "    .count()\\\n",
    "    .withColumnRenamed('count','num_tuhmbs_down')   "
   ]
  },
  {
   "cell_type": "code",
   "execution_count": 41,
   "metadata": {},
   "outputs": [
    {
     "name": "stdout",
     "output_type": "stream",
     "text": [
      "+-------+------------------+-----------------+\n",
      "|summary|            userId|    num_thumbs_up|\n",
      "+-------+------------------+-----------------+\n",
      "|  count|               220|              220|\n",
      "|   mean| 66420.27727272727|            57.05|\n",
      "| stddev|106196.51156121881|65.67028650524044|\n",
      "|    min|                10|                1|\n",
      "|    max|                99|              437|\n",
      "+-------+------------------+-----------------+\n",
      "\n",
      "+-------+------------------+------------------+\n",
      "|summary|            userId|   num_tuhmbs_down|\n",
      "+-------+------------------+------------------+\n",
      "|  count|               203|               203|\n",
      "|   mean| 66066.16256157635|12.541871921182265|\n",
      "| stddev|106108.32569893777|13.198108566983787|\n",
      "|    min|                10|                 1|\n",
      "|    max|                99|                75|\n",
      "+-------+------------------+------------------+\n",
      "\n"
     ]
    }
   ],
   "source": [
    "f_4.describe().show()\n",
    "f_5.describe().show()"
   ]
  },
  {
   "cell_type": "code",
   "execution_count": 42,
   "metadata": {},
   "outputs": [],
   "source": [
    "# 播放列表特征\n",
    "f_6 = df_clean.select('userId','page').where('page == \"Add to Playlist\"')\\\n",
    "    .groupby('userId')\\\n",
    "    .count()\\\n",
    "    .withColumnRenamed('count','num_to_playlist')"
   ]
  },
  {
   "cell_type": "code",
   "execution_count": 43,
   "metadata": {},
   "outputs": [
    {
     "name": "stdout",
     "output_type": "stream",
     "text": [
      "+-------+------------------+-----------------+\n",
      "|summary|            userId|  num_to_playlist|\n",
      "+-------+------------------+-----------------+\n",
      "|  count|               215|              215|\n",
      "|   mean| 66103.63720930232|30.35348837209302|\n",
      "| stddev|106360.47999565038| 32.8520568555997|\n",
      "|    min|                10|                1|\n",
      "|    max|                99|              240|\n",
      "+-------+------------------+-----------------+\n",
      "\n"
     ]
    }
   ],
   "source": [
    "f_6.describe().show()"
   ]
  },
  {
   "cell_type": "code",
   "execution_count": 44,
   "metadata": {},
   "outputs": [],
   "source": [
    "# 艺术家收听数量特征\n",
    "f_7 = df_clean.select('userId','artist').dropDuplicates()\\\n",
    "    .groupby('userId')\\\n",
    "    .count()\\\n",
    "    .withColumnRenamed('count','num_artist')"
   ]
  },
  {
   "cell_type": "code",
   "execution_count": 45,
   "metadata": {},
   "outputs": [
    {
     "name": "stdout",
     "output_type": "stream",
     "text": [
      "+-------+------------------+-----------------+\n",
      "|summary|            userId|       num_artist|\n",
      "+-------+------------------+-----------------+\n",
      "|  count|               225|              225|\n",
      "|   mean|65391.013333333336|697.3733333333333|\n",
      "| stddev|105396.47791907164| 603.956976648881|\n",
      "|    min|                10|                4|\n",
      "|    max|                99|             3545|\n",
      "+-------+------------------+-----------------+\n",
      "\n"
     ]
    }
   ],
   "source": [
    "f_7.describe().show()"
   ]
  },
  {
   "cell_type": "code",
   "execution_count": 46,
   "metadata": {},
   "outputs": [],
   "source": [
    "# 用户账户等级特征\n",
    "f_8 = df_clean.select('userId','level').dropDuplicates()"
   ]
  },
  {
   "cell_type": "code",
   "execution_count": 47,
   "metadata": {},
   "outputs": [
    {
     "name": "stdout",
     "output_type": "stream",
     "text": [
      "+------+-----+\n",
      "|userId|level|\n",
      "+------+-----+\n",
      "|    10| paid|\n",
      "|   100| free|\n",
      "|   100| paid|\n",
      "|100001| free|\n",
      "|100002| paid|\n",
      "|100003| free|\n",
      "|100004| paid|\n",
      "|100004| free|\n",
      "|100005| free|\n",
      "|100006| free|\n",
      "|100007| paid|\n",
      "|100008| paid|\n",
      "|100008| free|\n",
      "|100009| paid|\n",
      "|100009| free|\n",
      "|100010| free|\n",
      "|100011| free|\n",
      "|100012| paid|\n",
      "|100012| free|\n",
      "|100013| free|\n",
      "+------+-----+\n",
      "only showing top 20 rows\n",
      "\n"
     ]
    }
   ],
   "source": [
    "# 这里涉及到同一用户存在多个等级的情况，需要对此进行处理\n",
    "f_8.sort('userId').show()"
   ]
  },
  {
   "cell_type": "code",
   "execution_count": 48,
   "metadata": {},
   "outputs": [],
   "source": [
    "# 首先将level转换成int类型\n",
    "f_8 = f_8.replace(['paid','free'],['1','0'],'level')\\\n",
    "    .select('userId',col('level').cast('int'))\n",
    "# 然后将level其保留最终状态(paid->1)\n",
    "window_level = Window.partitionBy('userId')\n",
    "f_8 = f_8.withColumn('level',max('level').over(window_level)).dropDuplicates()"
   ]
  },
  {
   "cell_type": "code",
   "execution_count": 49,
   "metadata": {},
   "outputs": [
    {
     "name": "stdout",
     "output_type": "stream",
     "text": [
      "+-------+------------------+-------------------+\n",
      "|summary|            userId|              level|\n",
      "+-------+------------------+-------------------+\n",
      "|  count|               225|                225|\n",
      "|   mean|65391.013333333336| 0.7333333333333333|\n",
      "| stddev|105396.47791907164|0.44320263021395906|\n",
      "|    min|                10|                  0|\n",
      "|    max|                99|                  1|\n",
      "+-------+------------------+-------------------+\n",
      "\n"
     ]
    }
   ],
   "source": [
    "f_8.describe().show()"
   ]
  },
  {
   "cell_type": "markdown",
   "metadata": {},
   "source": [
    "## 4.2 特征与标签聚合"
   ]
  },
  {
   "cell_type": "code",
   "execution_count": 50,
   "metadata": {},
   "outputs": [
    {
     "data": {
      "text/html": [
       "<div>\n",
       "<style scoped>\n",
       "    .dataframe tbody tr th:only-of-type {\n",
       "        vertical-align: middle;\n",
       "    }\n",
       "\n",
       "    .dataframe tbody tr th {\n",
       "        vertical-align: top;\n",
       "    }\n",
       "\n",
       "    .dataframe thead th {\n",
       "        text-align: right;\n",
       "    }\n",
       "</style>\n",
       "<table border=\"1\" class=\"dataframe\">\n",
       "  <thead>\n",
       "    <tr style=\"text-align: right;\">\n",
       "      <th></th>\n",
       "      <th>total_songs</th>\n",
       "      <th>gender_index</th>\n",
       "      <th>time_period</th>\n",
       "      <th>num_thumbs_up</th>\n",
       "      <th>num_tuhmbs_down</th>\n",
       "      <th>num_to_playlist</th>\n",
       "      <th>num_artist</th>\n",
       "      <th>level</th>\n",
       "      <th>label</th>\n",
       "    </tr>\n",
       "  </thead>\n",
       "  <tbody>\n",
       "    <tr>\n",
       "      <th>0</th>\n",
       "      <td>381</td>\n",
       "      <td>1</td>\n",
       "      <td>55.643657</td>\n",
       "      <td>17</td>\n",
       "      <td>5</td>\n",
       "      <td>7</td>\n",
       "      <td>253</td>\n",
       "      <td>0</td>\n",
       "      <td>0</td>\n",
       "    </tr>\n",
       "    <tr>\n",
       "      <th>1</th>\n",
       "      <td>474</td>\n",
       "      <td>0</td>\n",
       "      <td>70.074630</td>\n",
       "      <td>21</td>\n",
       "      <td>6</td>\n",
       "      <td>8</td>\n",
       "      <td>340</td>\n",
       "      <td>1</td>\n",
       "      <td>0</td>\n",
       "    </tr>\n",
       "    <tr>\n",
       "      <th>2</th>\n",
       "      <td>11</td>\n",
       "      <td>0</td>\n",
       "      <td>71.316887</td>\n",
       "      <td>0</td>\n",
       "      <td>0</td>\n",
       "      <td>0</td>\n",
       "      <td>9</td>\n",
       "      <td>0</td>\n",
       "      <td>1</td>\n",
       "    </tr>\n",
       "    <tr>\n",
       "      <th>3</th>\n",
       "      <td>4825</td>\n",
       "      <td>1</td>\n",
       "      <td>131.555914</td>\n",
       "      <td>171</td>\n",
       "      <td>41</td>\n",
       "      <td>118</td>\n",
       "      <td>2233</td>\n",
       "      <td>1</td>\n",
       "      <td>0</td>\n",
       "    </tr>\n",
       "    <tr>\n",
       "      <th>4</th>\n",
       "      <td>2464</td>\n",
       "      <td>0</td>\n",
       "      <td>19.455845</td>\n",
       "      <td>100</td>\n",
       "      <td>21</td>\n",
       "      <td>52</td>\n",
       "      <td>1386</td>\n",
       "      <td>1</td>\n",
       "      <td>1</td>\n",
       "    </tr>\n",
       "    <tr>\n",
       "      <th>5</th>\n",
       "      <td>201</td>\n",
       "      <td>0</td>\n",
       "      <td>72.778183</td>\n",
       "      <td>7</td>\n",
       "      <td>1</td>\n",
       "      <td>5</td>\n",
       "      <td>143</td>\n",
       "      <td>0</td>\n",
       "      <td>0</td>\n",
       "    </tr>\n",
       "    <tr>\n",
       "      <th>6</th>\n",
       "      <td>2278</td>\n",
       "      <td>0</td>\n",
       "      <td>56.513576</td>\n",
       "      <td>81</td>\n",
       "      <td>14</td>\n",
       "      <td>59</td>\n",
       "      <td>1303</td>\n",
       "      <td>1</td>\n",
       "      <td>0</td>\n",
       "    </tr>\n",
       "    <tr>\n",
       "      <th>7</th>\n",
       "      <td>3437</td>\n",
       "      <td>1</td>\n",
       "      <td>110.751690</td>\n",
       "      <td>163</td>\n",
       "      <td>29</td>\n",
       "      <td>72</td>\n",
       "      <td>1745</td>\n",
       "      <td>1</td>\n",
       "      <td>1</td>\n",
       "    </tr>\n",
       "    <tr>\n",
       "      <th>8</th>\n",
       "      <td>1002</td>\n",
       "      <td>1</td>\n",
       "      <td>23.556019</td>\n",
       "      <td>58</td>\n",
       "      <td>3</td>\n",
       "      <td>24</td>\n",
       "      <td>644</td>\n",
       "      <td>1</td>\n",
       "      <td>0</td>\n",
       "    </tr>\n",
       "    <tr>\n",
       "      <th>9</th>\n",
       "      <td>310</td>\n",
       "      <td>0</td>\n",
       "      <td>85.083403</td>\n",
       "      <td>17</td>\n",
       "      <td>3</td>\n",
       "      <td>7</td>\n",
       "      <td>234</td>\n",
       "      <td>1</td>\n",
       "      <td>1</td>\n",
       "    </tr>\n",
       "  </tbody>\n",
       "</table>\n",
       "</div>"
      ],
      "text/plain": [
       "   total_songs  gender_index  time_period  num_thumbs_up  num_tuhmbs_down  \\\n",
       "0          381             1    55.643657             17                5   \n",
       "1          474             0    70.074630             21                6   \n",
       "2           11             0    71.316887              0                0   \n",
       "3         4825             1   131.555914            171               41   \n",
       "4         2464             0    19.455845            100               21   \n",
       "5          201             0    72.778183              7                1   \n",
       "6         2278             0    56.513576             81               14   \n",
       "7         3437             1   110.751690            163               29   \n",
       "8         1002             1    23.556019             58                3   \n",
       "9          310             0    85.083403             17                3   \n",
       "\n",
       "   num_to_playlist  num_artist  level  label  \n",
       "0                7         253      0      0  \n",
       "1                8         340      1      0  \n",
       "2                0           9      0      1  \n",
       "3              118        2233      1      0  \n",
       "4               52        1386      1      1  \n",
       "5                5         143      0      0  \n",
       "6               59        1303      1      0  \n",
       "7               72        1745      1      1  \n",
       "8               24         644      1      0  \n",
       "9                7         234      1      1  "
      ]
     },
     "execution_count": 50,
     "metadata": {},
     "output_type": "execute_result"
    }
   ],
   "source": [
    "# 各项特征数据量不同，按照outer方式聚合，并填充缺失值为0\n",
    "data_final = f_1.join(f_2,'userId','outer')\\\n",
    "    .join(f_3,'userId','outer')\\\n",
    "    .join(f_4,'userId','outer')\\\n",
    "    .join(f_5,'userId','outer')\\\n",
    "    .join(f_6,'userId','outer')\\\n",
    "    .join(f_7,'userId','outer')\\\n",
    "    .join(f_8,'userId','outer')\\\n",
    "    .join(label,'userId','outer')\\\n",
    "    .drop('userId')\\\n",
    "    .fillna(0)\n",
    "data_final.toPandas().head(10)"
   ]
  },
  {
   "cell_type": "markdown",
   "metadata": {},
   "source": [
    "* 以上是特征以及标签聚合的数据集"
   ]
  },
  {
   "cell_type": "markdown",
   "metadata": {},
   "source": [
    "### 4.3 数据拆分转换"
   ]
  },
  {
   "cell_type": "code",
   "execution_count": 51,
   "metadata": {},
   "outputs": [],
   "source": [
    "# 首先需要向量化特征\n",
    "# 使用VectorAssembler方法来转换，非常方便\n",
    "# 选取特征列\n",
    "feature_col = ['total_songs','gender_index','time_period','num_thumbs_up'\\\n",
    "               ,'num_tuhmbs_down','num_to_playlist','num_artist','level']\n",
    "assembler = VectorAssembler(inputCols = feature_col, outputCol = 'feature_1')\n",
    "data_final = assembler.transform(data_final)"
   ]
  },
  {
   "cell_type": "code",
   "execution_count": 52,
   "metadata": {},
   "outputs": [],
   "source": [
    "# 接下来对特征进行缩放，使用Normalizer进行归一化\n",
    "scaler = Normalizer(inputCol = 'feature_1', outputCol = 'features')\n",
    "data_final = scaler.transform(data_final)"
   ]
  },
  {
   "cell_type": "code",
   "execution_count": 53,
   "metadata": {},
   "outputs": [
    {
     "name": "stdout",
     "output_type": "stream",
     "text": [
      "+--------------------+\n",
      "|            features|\n",
      "+--------------------+\n",
      "|[0.82625192606090...|\n",
      "|[0.80614057312604...|\n",
      "|(8,[0,2,6],[0.151...|\n",
      "|[0.90652788346460...|\n",
      "|[0.87083903311466...|\n",
      "|[0.78108089108527...|\n",
      "|[0.86718673945040...|\n",
      "|[0.89031723474802...|\n",
      "|[0.83990033207259...|\n",
      "|[0.77879815013530...|\n",
      "|[0.86997047097193...|\n",
      "|[0.81704689880398...|\n",
      "|[0.86480089369949...|\n",
      "|[0.83845124110136...|\n",
      "|[0.87891040991532...|\n",
      "|[0.90372770617133...|\n",
      "|[0.82527601111947...|\n",
      "|[0.89309744501302...|\n",
      "|[0.83836080089797...|\n",
      "|[0.80532586682396...|\n",
      "+--------------------+\n",
      "only showing top 20 rows\n",
      "\n"
     ]
    }
   ],
   "source": [
    "data_final.select('features').show()"
   ]
  },
  {
   "cell_type": "markdown",
   "metadata": {},
   "source": [
    "* 至此特征与目标标签准备完成"
   ]
  },
  {
   "cell_type": "markdown",
   "metadata": {},
   "source": [
    "## 5 建模\n",
    "将完整数据集分成训练集、测试集和验证集。测试几种你学过的机器学习方法。评价不同机器学习方法的准确率，根据情况调节参数。根据准确率你挑选出表现最好的那个模型，然后报告在训练集上的结果。因为流失顾客数据集很小，我建议选用 F1 score 作为优化指标。"
   ]
  },
  {
   "cell_type": "markdown",
   "metadata": {},
   "source": [
    "### 5.1 拆分训练集，验证集和测试集"
   ]
  },
  {
   "cell_type": "code",
   "execution_count": 54,
   "metadata": {},
   "outputs": [],
   "source": [
    "# 数据拆分\n",
    "train, validation, test = data_final.randomSplit([0.6,0.2,0.2],seed = 42)"
   ]
  },
  {
   "cell_type": "markdown",
   "metadata": {},
   "source": [
    "### 5.2 选择模型建模\n",
    "* 因为是分类问题，目标0或1，所以选择分类算法\n",
    "* 首先选择一个算法，比如LogisticRegression，RandomForestClassifier等\n",
    "* 加载数据得到模型（训练集）\n",
    "* 使用模型进行预测（验证集）\n",
    "* 选择一个何时的评估方法，对结果进行评价（evaluator：MulticlassClassificationEvaluator),evaluator.evaluate(results,{evaluator.metricName:'f1'})"
   ]
  },
  {
   "cell_type": "markdown",
   "metadata": {},
   "source": [
    "#### 5.2.1 Logistic Regression"
   ]
  },
  {
   "cell_type": "code",
   "execution_count": 55,
   "metadata": {},
   "outputs": [],
   "source": [
    "# 模型初始化\n",
    "lr = LogisticRegression(maxIter=5)\n",
    "\n",
    "# 设置评分\n",
    "evaluator_f1 = MulticlassClassificationEvaluator(metricName='f1')\n",
    "\n",
    "# 建立一个简单的参数网格\n",
    "paramGrid = ParamGridBuilder().build()\n",
    "\n",
    "crossval_lr = CrossValidator(estimator = lr,\n",
    "                             estimatorParamMaps = paramGrid,\n",
    "                             evaluator = evaluator_f1, \n",
    "                             numFolds = 3)"
   ]
  },
  {
   "cell_type": "code",
   "execution_count": 56,
   "metadata": {},
   "outputs": [
    {
     "name": "stdout",
     "output_type": "stream",
     "text": [
      "The Training process took 865.8061721324921 seconds\n"
     ]
    }
   ],
   "source": [
    "# 训练模型\n",
    "from time import time\n",
    "start = time()\n",
    "cvModel_lr = crossval_lr.fit(train)\n",
    "end = time()\n",
    "print('The Training process took {} seconds'.format(end-start))"
   ]
  },
  {
   "cell_type": "code",
   "execution_count": 57,
   "metadata": {},
   "outputs": [],
   "source": [
    "# 使用验证集进行预测\n",
    "results_lr = cvModel_lr.transform(validation)"
   ]
  },
  {
   "cell_type": "code",
   "execution_count": 58,
   "metadata": {},
   "outputs": [
    {
     "name": "stdout",
     "output_type": "stream",
     "text": [
      "Logistic Regression Metrics:\n",
      "\n",
      "Accuracy: 0.7142857142857143\n",
      "\n",
      "F-1 Score: 0.6711672473867596\n"
     ]
    }
   ],
   "source": [
    "# 评估器进行评估\n",
    "evaluator = MulticlassClassificationEvaluator(predictionCol = 'prediction')\n",
    "\n",
    "print('Logistic Regression Metrics:')\n",
    "print('\\nAccuracy: {}'.format(evaluator.evaluate(results_lr,{evaluator.metricName:\"accuracy\"})))\n",
    "print('\\nF-1 Score: {}'.format(evaluator.evaluate(results_lr,{evaluator.metricName:\"f1\"})))"
   ]
  },
  {
   "cell_type": "markdown",
   "metadata": {},
   "source": [
    "####  5.2.2 SVM"
   ]
  },
  {
   "cell_type": "code",
   "execution_count": 59,
   "metadata": {},
   "outputs": [],
   "source": [
    "# 模型初始化\n",
    "svm = LinearSVC(maxIter=5)\n",
    "\n",
    "# 设置评分\n",
    "evaluator_f1 = MulticlassClassificationEvaluator(metricName='f1')\n",
    "\n",
    "# 建立一个简单的参数网格\n",
    "paramGrid = ParamGridBuilder().build()\n",
    "\n",
    "crossval_svm = CrossValidator(estimator = svm,\n",
    "                             estimatorParamMaps = paramGrid,\n",
    "                             evaluator = evaluator_f1, \n",
    "                             numFolds = 3)"
   ]
  },
  {
   "cell_type": "code",
   "execution_count": 60,
   "metadata": {},
   "outputs": [
    {
     "name": "stdout",
     "output_type": "stream",
     "text": [
      "The Training process took 1037.3713827133179 seconds\n"
     ]
    }
   ],
   "source": [
    "# 训练模型\n",
    "start = time()\n",
    "cvModel_svm = crossval_svm.fit(train)\n",
    "end = time()\n",
    "print('The Training process took {} seconds'.format(end-start))"
   ]
  },
  {
   "cell_type": "code",
   "execution_count": 61,
   "metadata": {},
   "outputs": [],
   "source": [
    "# 使用验证集进行预测\n",
    "results_svm = cvModel_svm.transform(validation)"
   ]
  },
  {
   "cell_type": "code",
   "execution_count": 62,
   "metadata": {},
   "outputs": [
    {
     "name": "stdout",
     "output_type": "stream",
     "text": [
      "SVM Metrics:\n",
      "\n",
      "Accuracy: 0.7755102040816326\n",
      "\n",
      "F-1 Score: 0.6774571897724607\n"
     ]
    }
   ],
   "source": [
    "# 评估器进行评估\n",
    "evaluator = MulticlassClassificationEvaluator(predictionCol = 'prediction')\n",
    "\n",
    "print('SVM Metrics:')\n",
    "print('\\nAccuracy: {}'.format(evaluator.evaluate(results_svm,{evaluator.metricName:\"accuracy\"})))\n",
    "print('\\nF-1 Score: {}'.format(evaluator.evaluate(results_svm,{evaluator.metricName:\"f1\"})))"
   ]
  },
  {
   "cell_type": "markdown",
   "metadata": {},
   "source": [
    "#### 5.2.3 Random Forest"
   ]
  },
  {
   "cell_type": "code",
   "execution_count": 63,
   "metadata": {},
   "outputs": [],
   "source": [
    "# 模型初始化\n",
    "rf = RandomForestClassifier(maxDepth=5)\n",
    "\n",
    "# 设置评分\n",
    "evaluator_f1 = MulticlassClassificationEvaluator(metricName='f1')\n",
    "\n",
    "# 建立一个简单的参数网格\n",
    "paramGrid = ParamGridBuilder().build()\n",
    "\n",
    "crossval_rf = CrossValidator(estimator = rf,\n",
    "                             estimatorParamMaps = paramGrid,\n",
    "                             evaluator = evaluator_f1, \n",
    "                             numFolds = 3)"
   ]
  },
  {
   "cell_type": "code",
   "execution_count": 64,
   "metadata": {},
   "outputs": [
    {
     "name": "stdout",
     "output_type": "stream",
     "text": [
      "The Training process took 1053.3771948814392 seconds\n"
     ]
    }
   ],
   "source": [
    "# 训练模型\n",
    "start = time()\n",
    "cvModel_rf = crossval_rf.fit(train)\n",
    "end = time()\n",
    "print('The Training process took {} seconds'.format(end-start))"
   ]
  },
  {
   "cell_type": "code",
   "execution_count": 65,
   "metadata": {},
   "outputs": [],
   "source": [
    "# 使用验证集进行预测\n",
    "results_rf = cvModel_rf.transform(validation)"
   ]
  },
  {
   "cell_type": "code",
   "execution_count": 66,
   "metadata": {},
   "outputs": [
    {
     "name": "stdout",
     "output_type": "stream",
     "text": [
      "Random Forest Metrics:\n",
      "\n",
      "Accuracy: 0.7551020408163265\n",
      "\n",
      "F-1 Score: 0.7181433549029368\n"
     ]
    }
   ],
   "source": [
    "# 评估器进行评估\n",
    "evaluator = MulticlassClassificationEvaluator(predictionCol = 'prediction')\n",
    "\n",
    "print('Random Forest Metrics:')\n",
    "print('\\nAccuracy: {}'.format(evaluator.evaluate(results_rf,{evaluator.metricName:\"accuracy\"})))\n",
    "print('\\nF-1 Score: {}'.format(evaluator.evaluate(results_rf,{evaluator.metricName:\"f1\"})))"
   ]
  },
  {
   "cell_type": "markdown",
   "metadata": {},
   "source": [
    "#### 5.2.4 GBT"
   ]
  },
  {
   "cell_type": "code",
   "execution_count": 67,
   "metadata": {},
   "outputs": [],
   "source": [
    "# 模型初始化\n",
    "gbt = GBTClassifier(maxIter = 5,maxDepth=5,seed = 42)\n",
    "\n",
    "# 设置评分\n",
    "evaluator_f1 = MulticlassClassificationEvaluator(metricName='f1')\n",
    "\n",
    "# 建立一个简单的参数网格\n",
    "paramGrid = ParamGridBuilder().build()\n",
    "\n",
    "crossval_gbt = CrossValidator(estimator = gbt,\n",
    "                             estimatorParamMaps = paramGrid,\n",
    "                             evaluator = evaluator_f1, \n",
    "                             numFolds = 3)"
   ]
  },
  {
   "cell_type": "code",
   "execution_count": 68,
   "metadata": {},
   "outputs": [
    {
     "name": "stdout",
     "output_type": "stream",
     "text": [
      "The Training process took 1081.0988173484802 seconds\n"
     ]
    }
   ],
   "source": [
    "# 训练模型\n",
    "start = time()\n",
    "cvModel_gbt = crossval_gbt.fit(train)\n",
    "end = time()\n",
    "print('The Training process took {} seconds'.format(end-start))"
   ]
  },
  {
   "cell_type": "code",
   "execution_count": 69,
   "metadata": {},
   "outputs": [],
   "source": [
    "# 使用验证集进行预测\n",
    "results_gbt = cvModel_gbt.transform(validation)"
   ]
  },
  {
   "cell_type": "code",
   "execution_count": 70,
   "metadata": {},
   "outputs": [
    {
     "name": "stdout",
     "output_type": "stream",
     "text": [
      "GBT Metrics:\n",
      "\n",
      "Accuracy: 0.7142857142857143\n",
      "\n",
      "F-1 Score: 0.7142857142857142\n"
     ]
    }
   ],
   "source": [
    "# 评估器进行评估\n",
    "evaluator = MulticlassClassificationEvaluator(predictionCol = 'prediction')\n",
    "\n",
    "print('GBT Metrics:')\n",
    "print('\\nAccuracy: {}'.format(evaluator.evaluate(results_gbt,{evaluator.metricName:\"accuracy\"})))\n",
    "print('\\nF-1 Score: {}'.format(evaluator.evaluate(results_gbt,{evaluator.metricName:\"f1\"})))"
   ]
  },
  {
   "cell_type": "markdown",
   "metadata": {},
   "source": [
    "### 5.3 模型总结\n",
    "不同模型建模后测试结果如下：\n",
    "* **Logistic Regression**：\n",
    "    **准确率:0.7551020408163265**\n",
    "    **F-1 Score:0.6672994779307071**\n",
    "    **模型训练时间:825.1287245750427秒**\n",
    "* **SVM**：\n",
    "    **准确率:0.7755102040816326**\n",
    "    **F-1 Score:0.6774571897724607**\n",
    "    **模型训练时间:1067.491333246231秒**\n",
    "* **Random Forest**：\n",
    "    **准确率:0.8163265306122449**\n",
    "    **F-1 Score:0.7624711423030751**\n",
    "    **模型训练时间:1074.8405141830444秒**\n",
    "* **GBT**：\n",
    "    **准确率:0.7142857142857143**\n",
    "    **F-1 Score:0.7142857142857142**\n",
    "    **模型训练时间:1157.4184792041779秒**\n",
    "\n",
    "* 综合对比下来，**Random Forest**模型的准确率以及F-1 Score均为最佳，虽然时间略慢于Logistic Regression，但介于数据量相对来说比较小的情况，我们倾向选择模型表现好的**Random Forest**作为预测模型，并在后续本地搭建环境中对其进行调参。"
   ]
  },
  {
   "cell_type": "markdown",
   "metadata": {},
   "source": [
    "### 5.3.1 最优模型"
   ]
  },
  {
   "cell_type": "code",
   "execution_count": 71,
   "metadata": {},
   "outputs": [],
   "source": [
    "# 最后使用选择的Random Forest模型对测试集进行预测\n",
    "last_results = cvModel_rf.transform(test)"
   ]
  },
  {
   "cell_type": "code",
   "execution_count": 72,
   "metadata": {},
   "outputs": [
    {
     "name": "stdout",
     "output_type": "stream",
     "text": [
      "Random Foreset Metrics:\n",
      "\n",
      "Accuracy: 0.7058823529411765\n",
      "\n",
      "F-1 Score: 0.6804298642533937\n"
     ]
    }
   ],
   "source": [
    "# 评估器进行评估\n",
    "evaluator = MulticlassClassificationEvaluator(predictionCol = 'prediction')\n",
    "print('Random Foreset Metrics:')\n",
    "print('\\nAccuracy: {}'.format(evaluator.evaluate(last_results,{evaluator.metricName:\"accuracy\"})))\n",
    "print('\\nF-1 Score: {}'.format(evaluator.evaluate(last_results,{evaluator.metricName:\"f1\"})))"
   ]
  },
  {
   "cell_type": "markdown",
   "metadata": {},
   "source": [
    "### 5.3.2 调参"
   ]
  },
  {
   "cell_type": "code",
   "execution_count": 76,
   "metadata": {},
   "outputs": [],
   "source": [
    "# 模型初始化\n",
    "rf = RandomForestClassifier(maxDepth=5)\n",
    "\n",
    "# 设置评分\n",
    "evaluator_f1 = MulticlassClassificationEvaluator(metricName='f1')\n",
    "\n",
    "# 建立一个简单的参数网格\n",
    "paramGrid = ParamGridBuilder()\\\n",
    "    .addGrid(rf.numTrees,[10,20])\\\n",
    "    .addGrid(rf.maxDepth,[5,10])\\\n",
    "    .build()\n",
    "\n",
    "crossval_rf = CrossValidator(estimator = rf,\n",
    "                             estimatorParamMaps = paramGrid,\n",
    "                             evaluator = evaluator_f1, \n",
    "                             numFolds = 3)"
   ]
  },
  {
   "cell_type": "code",
   "execution_count": 77,
   "metadata": {},
   "outputs": [
    {
     "name": "stdout",
     "output_type": "stream",
     "text": [
      "The Training process took 1392.633050918579 seconds\n"
     ]
    }
   ],
   "source": [
    "# 训练模型\n",
    "start = time()\n",
    "cvModel_rf = crossval_rf.fit(train)\n",
    "end = time()\n",
    "print('The Training process took {} seconds'.format(end-start))"
   ]
  },
  {
   "cell_type": "code",
   "execution_count": 79,
   "metadata": {},
   "outputs": [
    {
     "data": {
      "text/plain": [
       "[0.7026751131822128,\n",
       " 0.7026751131822128,\n",
       " 0.7068527171227145,\n",
       " 0.7099845733111454]"
      ]
     },
     "execution_count": 79,
     "metadata": {},
     "output_type": "execute_result"
    }
   ],
   "source": [
    "#查看模型评分矩阵\n",
    "cvModel_rf.avgMetrics"
   ]
  },
  {
   "cell_type": "markdown",
   "metadata": {},
   "source": [
    "* 根据评分矩阵我们可以看出，当模型参数为rf.numTrees=20，rf.maxDepth=10时，表现更好"
   ]
  },
  {
   "cell_type": "code",
   "execution_count": 84,
   "metadata": {},
   "outputs": [],
   "source": [
    "# 使用最优参数模型对训练集进行训练，并预测测试集\n",
    "rf_best = RandomForestClassifier(numTrees=20,maxDepth=10)\n",
    "rf_bestModel = rf_best.fit(train)\n",
    "results_final = rf_bestModel.transform(test)"
   ]
  },
  {
   "cell_type": "code",
   "execution_count": 85,
   "metadata": {},
   "outputs": [
    {
     "name": "stdout",
     "output_type": "stream",
     "text": [
      "Best Model Metrics:\n",
      "\n",
      "Accuracy: 0.7352941176470589\n",
      "\n",
      "F-1 Score: 0.7036625971143174\n"
     ]
    }
   ],
   "source": [
    "# 评估器进行评估\n",
    "evaluator = MulticlassClassificationEvaluator(predictionCol = 'prediction')\n",
    "print('Best Model Metrics:')\n",
    "print('\\nAccuracy: {}'.format(evaluator.evaluate(results_final,{evaluator.metricName:\"accuracy\"})))\n",
    "print('\\nF-1 Score: {}'.format(evaluator.evaluate(results_final,{evaluator.metricName:\"f1\"})))"
   ]
  },
  {
   "cell_type": "markdown",
   "metadata": {},
   "source": [
    "### 特征度重要性\n"
   ]
  },
  {
   "cell_type": "code",
   "execution_count": 94,
   "metadata": {},
   "outputs": [
    {
     "data": {
      "text/plain": [
       "Text(0.5,1,'Random Forest Feature-Importances')"
      ]
     },
     "execution_count": 94,
     "metadata": {},
     "output_type": "execute_result"
    },
    {
     "data": {
      "image/png": "[encoded data removed]",
      "text/plain": [
       "<matplotlib.figure.Figure at 0x7f8307e93b38>"
      ]
     },
     "metadata": {
      "needs_background": "light"
     },
     "output_type": "display_data"
    }
   ],
   "source": [
    "features_importances = rf_bestModel.featureImportances.values\n",
    "features_importances = np.sort(features_importances)\n",
    "\n",
    "sns.barplot( x = features_importances, y = feature_col, color = sns.color_palette()[0])\n",
    "plt.xlabel('Importance Score')\n",
    "plt.title('Random Forest Feature-Importances')"
   ]
  },
  {
   "cell_type": "markdown",
   "metadata": {},
   "source": [
    "* 从图中可以看出**level**特征对于模型表现来说影响最大，**total_songs**相对来说重要性一般"
   ]
  },
  {
   "cell_type": "markdown",
   "metadata": {},
   "source": [
    "## 6 总结\n",
    "**在本次项目中，我们尝试建立一个模型来预测一个应用的客户流失情况**\n",
    "* 在数据加载清洗中，我们首先在本地操作系统中将数据压缩成了bz2格式，然后对数据集进行加载，去除了可能存在空值的数据，去除了含有空字符串的用户\n",
    "* 在探索性数据化分析中，我们首先定义了客户流失的行为特征，并将其通过（1，0）值对每个用户进行标记，并将时间相关特征转换成方便人阅读的格式\n",
    "* 可视化分析中，我们探索了不同变量于用户流失之间的关系，我们发现：\n",
    "    1. *男用户流失比女用户略多一点*\n",
    "    2. *曾付费的用户反而比免费使用的用户流失的多，说明应用所提供的服务可能很不好*\n",
    "    3. *点赞与差评之间的比值与用户流失与否有着一定的关系，比值越高的用户相对来说不容易流失*\n",
    "    4. *流失的用户相对于没有流失的用户总体使用应用服务的时间要少一些*\n",
    "* 我们对数据进行特征工程，包括特征筛选创建，聚合特征与标签，其中我们将level，gender特征转换为了int格式，方便模型训练，最后我们得出了7个特征一个目标标签的数据集；接着我们对特征进行向量化，并使用Nomalizer对特征进行归一化，得到最终数据集\n",
    "* 我们将最终数据集拆分成训练集，验证集和测试集，并选取4个机器学习模型，对训练集进行训练\n",
    "* 训练出的模型，通过验证集的预测，综合比较我们选择了**Random Forest**作为最佳的模型，并让该模型对测试集进行预测，并评价结果\n",
    "* 最后观察结果发现**F-1 Score**比验证集预测有着较大的下滑，模型可能存在过拟合的问题，可以通过后续在本地环境中调参，尝试寻找更优的模型\n",
    "* 对模型进行调参后发现当参数**numTrees=20,maxDepth=10**时模型表现最好，选择该参数重新训练模型并对测试集进行预测\n",
    "* 最后得出结果：\n",
    "    Best Model Metrics:\n",
    "\n",
    "    Accuracy: 0.7352941176470589\n",
    "\n",
    "    F-1 Score: 0.7036625971143174\n",
    "* 再对模型进行特征重要性探索，发现**level**特征对于模型表现来说影响最大，**total_songs**相对来说重要性一般"
   ]
  },
  {
   "cell_type": "code",
   "execution_count": null,
   "metadata": {},
   "outputs": [],
   "source": []
  }
 ],
 "metadata": {
  "kernelspec": {
   "display_name": "Python 3",
   "language": "python",
   "name": "python3"
  },
  "language_info": {
   "codemirror_mode": {
    "name": "ipython",
    "version": 3
   },
   "file_extension": ".py",
   "mimetype": "text/x-python",
   "name": "python",
   "nbconvert_exporter": "python",
   "pygments_lexer": "ipython3",
   "version": "3.6.3"
  }
 },
 "nbformat": 4,
 "nbformat_minor": 2
}
